{
 "cells": [
  {
   "cell_type": "code",
   "execution_count": 1,
   "metadata": {},
   "outputs": [
    {
     "name": "stderr",
     "output_type": "stream",
     "text": [
      "c:\\Ambarish\\crewai_azure\\.venv\\Lib\\site-packages\\pydantic\\_internal\\_config.py:323: PydanticDeprecatedSince20: Support for class-based `config` is deprecated, use ConfigDict instead. Deprecated in Pydantic V2.0 to be removed in V3.0. See Pydantic V2 Migration Guide at https://errors.pydantic.dev/2.11/migration/\n",
      "  warnings.warn(DEPRECATION_MESSAGE, DeprecationWarning)\n",
      "c:\\Ambarish\\crewai_azure\\.venv\\Lib\\site-packages\\tqdm\\auto.py:21: TqdmWarning: IProgress not found. Please update jupyter and ipywidgets. See https://ipywidgets.readthedocs.io/en/stable/user_install.html\n",
      "  from .autonotebook import tqdm as notebook_tqdm\n",
      "c:\\Ambarish\\crewai_azure\\.venv\\Lib\\site-packages\\crewai_tools\\tools\\base_tool.py:93: PydanticDeprecatedSince20: The `schema` method is deprecated; use `model_json_schema` instead. Deprecated in Pydantic V2.0 to be removed in V3.0. See Pydantic V2 Migration Guide at https://errors.pydantic.dev/2.11/migration/\n",
      "  for arg, attribute in self.args_schema.schema()[\"properties\"].items():\n"
     ]
    }
   ],
   "source": [
    "from crewai import Agent, Task, Crew, LLM\n",
    "from crewai_tools import tool\n",
    "from langchain_community.tools import DuckDuckGoSearchRun\n",
    "import os\n",
    "from IPython.display import Markdown\n",
    "from tools_repo.tools import *"
   ]
  },
  {
   "cell_type": "code",
   "execution_count": 2,
   "metadata": {},
   "outputs": [],
   "source": [
    "from config import *\n",
    "\n",
    "llm = LLM(model = os.environ.get(\"model\"),)"
   ]
  },
  {
   "cell_type": "code",
   "execution_count": 3,
   "metadata": {},
   "outputs": [
    {
     "data": {
      "text/plain": [
       "'https://westusgenai.openai.azure.com/'"
      ]
     },
     "execution_count": 3,
     "metadata": {},
     "output_type": "execute_result"
    }
   ],
   "source": [
    "os.environ[\"AZURE_API_BASE\"]"
   ]
  },
  {
   "cell_type": "code",
   "execution_count": 4,
   "metadata": {},
   "outputs": [
    {
     "data": {
      "text/plain": [
       "<crewai.llm.LLM at 0x292a6d42150>"
      ]
     },
     "execution_count": 4,
     "metadata": {},
     "output_type": "execute_result"
    }
   ],
   "source": [
    "llm"
   ]
  },
  {
   "cell_type": "code",
   "execution_count": 5,
   "metadata": {},
   "outputs": [
    {
     "name": "stderr",
     "output_type": "stream",
     "text": [
      "c:\\Ambarish\\crewai_azure\\.venv\\Lib\\site-packages\\langchain_core\\tools\\structured.py:54: PydanticDeprecatedSince20: The `schema` method is deprecated; use `model_json_schema` instead. Deprecated in Pydantic V2.0 to be removed in V3.0. See Pydantic V2 Migration Guide at https://errors.pydantic.dev/2.11/migration/\n",
      "  return self.args_schema.schema()[\"properties\"]\n"
     ]
    }
   ],
   "source": [
    "# Define the Agent\n",
    "legal_agent = Agent(\n",
    "    role='Legal Assistant',\n",
    "    goal='Assistant to provide assistance with legal research',\n",
    "    backstory=\"You are an experienced Legal assistant specializing in legal matters of India.\",\n",
    "    verbose=False,\n",
    "    llm=llm,\n",
    "    allow_delegation=False,\n",
    "    tools=[search]  # Tool for online searching\n",
    ")"
   ]
  },
  {
   "cell_type": "code",
   "execution_count": 6,
   "metadata": {},
   "outputs": [],
   "source": [
    "# Define the Task\n",
    "task = Task(\n",
    "    description=\"Based on the user's questions: {questions}, research and advise on the Legal Matters.\",\n",
    "    expected_output=\"A list of legal advise and answers with brief descriptions.\",\n",
    "    agent=legal_agent\n",
    ")"
   ]
  },
  {
   "cell_type": "code",
   "execution_count": 7,
   "metadata": {},
   "outputs": [
    {
     "name": "stderr",
     "output_type": "stream",
     "text": [
      "c:\\Ambarish\\crewai_azure\\.venv\\Lib\\site-packages\\langchain_core\\tools\\structured.py:54: PydanticDeprecatedSince20: The `schema` method is deprecated; use `model_json_schema` instead. Deprecated in Pydantic V2.0 to be removed in V3.0. See Pydantic V2 Migration Guide at https://errors.pydantic.dev/2.11/migration/\n",
      "  return self.args_schema.schema()[\"properties\"]\n"
     ]
    }
   ],
   "source": [
    "# Create the Crew\n",
    "crew = Crew(\n",
    "    agents=[legal_agent],\n",
    "    tasks=[task],\n",
    "    verbose=False,\n",
    ")"
   ]
  },
  {
   "cell_type": "code",
   "execution_count": 8,
   "metadata": {},
   "outputs": [
    {
     "name": "stderr",
     "output_type": "stream",
     "text": [
      "c:\\Ambarish\\crewai_azure\\.venv\\Lib\\site-packages\\langchain_core\\tools\\structured.py:54: PydanticDeprecatedSince20: The `schema` method is deprecated; use `model_json_schema` instead. Deprecated in Pydantic V2.0 to be removed in V3.0. See Pydantic V2 Migration Guide at https://errors.pydantic.dev/2.11/migration/\n",
      "  return self.args_schema.schema()[\"properties\"]\n",
      "c:\\Ambarish\\crewai_azure\\.venv\\Lib\\site-packages\\langchain_core\\tools\\structured.py:54: PydanticDeprecatedSince20: The `schema` method is deprecated; use `model_json_schema` instead. Deprecated in Pydantic V2.0 to be removed in V3.0. See Pydantic V2 Migration Guide at https://errors.pydantic.dev/2.11/migration/\n",
      "  return self.args_schema.schema()[\"properties\"]\n",
      "c:\\Ambarish\\crewai_azure\\.venv\\Lib\\site-packages\\crewai\\tools\\tool_usage.py:162: PydanticDeprecatedSince20: The `schema` method is deprecated; use `model_json_schema` instead. Deprecated in Pydantic V2.0 to be removed in V3.0. See Pydantic V2 Migration Guide at https://errors.pydantic.dev/2.11/migration/\n",
      "  acceptable_args = tool.args_schema.schema()[\"properties\"].keys()  # type: ignore # Item \"None\" of \"type[BaseModel] | None\" has no attribute \"schema\"\n",
      "c:\\Ambarish\\crewai_azure\\.venv\\Lib\\site-packages\\langchain_core\\tools\\base.py:424: PydanticDeprecatedSince20: The `parse_obj` method is deprecated; use `model_validate` instead. Deprecated in Pydantic V2.0 to be removed in V3.0. See Pydantic V2 Migration Guide at https://errors.pydantic.dev/2.11/migration/\n",
      "  result = input_args.parse_obj(tool_input)\n",
      "c:\\Ambarish\\crewai_azure\\.venv\\Lib\\site-packages\\langchain_core\\tools\\base.py:427: PydanticDeprecatedSince20: The `dict` method is deprecated; use `model_dump` instead. Deprecated in Pydantic V2.0 to be removed in V3.0. See Pydantic V2 Migration Guide at https://errors.pydantic.dev/2.11/migration/\n",
      "  for k, v in result.dict().items()\n",
      "c:\\Ambarish\\crewai_azure\\.venv\\Lib\\site-packages\\crewai\\tools\\tool_usage.py:162: PydanticDeprecatedSince20: The `schema` method is deprecated; use `model_json_schema` instead. Deprecated in Pydantic V2.0 to be removed in V3.0. See Pydantic V2 Migration Guide at https://errors.pydantic.dev/2.11/migration/\n",
      "  acceptable_args = tool.args_schema.schema()[\"properties\"].keys()  # type: ignore # Item \"None\" of \"type[BaseModel] | None\" has no attribute \"schema\"\n",
      "c:\\Ambarish\\crewai_azure\\.venv\\Lib\\site-packages\\langchain_core\\tools\\base.py:424: PydanticDeprecatedSince20: The `parse_obj` method is deprecated; use `model_validate` instead. Deprecated in Pydantic V2.0 to be removed in V3.0. See Pydantic V2 Migration Guide at https://errors.pydantic.dev/2.11/migration/\n",
      "  result = input_args.parse_obj(tool_input)\n",
      "c:\\Ambarish\\crewai_azure\\.venv\\Lib\\site-packages\\langchain_core\\tools\\base.py:427: PydanticDeprecatedSince20: The `dict` method is deprecated; use `model_dump` instead. Deprecated in Pydantic V2.0 to be removed in V3.0. See Pydantic V2 Migration Guide at https://errors.pydantic.dev/2.11/migration/\n",
      "  for k, v in result.dict().items()\n"
     ]
    }
   ],
   "source": [
    "# User input for travel preferences\n",
    "user_input = {\n",
    "    \"questions\": \"I want a know about the Indian Special Marraige Act.\"\n",
    "}\n",
    "\n",
    "# Execute the Crew\n",
    "result = crew.kickoff(inputs=user_input)"
   ]
  },
  {
   "cell_type": "code",
   "execution_count": 9,
   "metadata": {},
   "outputs": [
    {
     "data": {
      "text/markdown": [
       "The Indian Special Marriage Act, 1954 is a pivotal legislation in India that facilitates marriage between individuals of different religions, castes, or communities without forcing them to convert. Below are key legal matters and advice regarding the Act:\n",
       "\n",
       "1. **Purpose & Validity**: The Special Marriage Act provides a civil marriage option in India, valid for Indian citizens and those residing abroad. It respects the fundamental rights enshrined in the Constitution, particularly Article 21 (right to marry) and Article 14 (equality before the law).\n",
       "\n",
       "2. **Scope of the Act**: It applies to all Indian citizens, providing a legal framework for marriages that fall outside personal laws. This inclusivity is vital for inter-religious and inter-caste couples who wish to marry legally.\n",
       "\n",
       "3. **Procedure for Marriage**: Couples intending to marry must give a notice of their marriage to the Marriage Officer. Following the notice period (30 days), if no objections arise, the marriage can be solemnized.\n",
       "\n",
       "4. **Registration of Marriage**: Registration under this Act is compulsory, providing legal recognition of the union. The Act lays down the procedure for such registration, which adds legitimacy and offers legal protection to spouses.\n",
       "\n",
       "5. **Provisions for Maintenance and Divorce**: The Act allows for maintenance in cases of separation or divorce, providing legal recourse for individuals seeking support from their partner. Additionally, provisions for divorce under the Act necessitate adherence to specified grounds.\n",
       "\n",
       "6. **Recent Amendments**: The Special Marriage (Amendment) Bill, 2022 aimed to address contemporary issues, such as same-sex marriages, although it did not pass in Parliament. This underscores the evolving nature of legal recognition in marriage laws in India.\n",
       "\n",
       "7. **Recognition of International Marriages**: The Special Marriage Act recognizes marriages that occur outside India, ensuring that such unions are valid when the parties return to India.\n",
       "\n",
       "8. **Legal Precedents**: Several Supreme Court judgments have reinforced the validity and necessity of secular marriage laws in India, promoting equality and individual rights in marriage.\n",
       "\n",
       "9. **Legal Assistance**: Individuals seeking marriage under the Special Marriage Act are advised to consult a legal expert to navigate the registration process, understand their rights, and ensure compliance with relevant provisions.\n",
       "\n",
       "This legislation is crucial in a diverse society where personal laws often pose challenges to interfaith and intercaste marriages. It promotes the ideals of individual choice and equality, catering to the needs of modern relationships while ensuring legal protection and recognition."
      ],
      "text/plain": [
       "<IPython.core.display.Markdown object>"
      ]
     },
     "execution_count": 9,
     "metadata": {},
     "output_type": "execute_result"
    }
   ],
   "source": [
    "Markdown(result.raw)"
   ]
  },
  {
   "cell_type": "code",
   "execution_count": null,
   "metadata": {},
   "outputs": [],
   "source": []
  }
 ],
 "metadata": {
  "kernelspec": {
   "display_name": ".venv",
   "language": "python",
   "name": "python3"
  },
  "language_info": {
   "codemirror_mode": {
    "name": "ipython",
    "version": 3
   },
   "file_extension": ".py",
   "mimetype": "text/x-python",
   "name": "python",
   "nbconvert_exporter": "python",
   "pygments_lexer": "ipython3",
   "version": "3.11.6"
  }
 },
 "nbformat": 4,
 "nbformat_minor": 2
}
