{
 "cells": [
  {
   "cell_type": "code",
   "execution_count": 10,
   "metadata": {},
   "outputs": [],
   "source": [
    "from crewai import Agent, Task, Crew, LLM\n",
    "from crewai_tools import tool\n",
    "from langchain_community.tools import DuckDuckGoSearchRun\n",
    "import os\n",
    "from IPython.display import Markdown"
   ]
  },
  {
   "cell_type": "code",
   "execution_count": 20,
   "metadata": {},
   "outputs": [],
   "source": [
    "os.environ[\"AZURE_API_KEY\"] = os.environ.get(\"AZURE_API_KEY\")\n",
    "os.environ[\"AZURE_API_BASE\"] = os.environ.get(\"AZURE_API_BASE\")\n",
    "os.environ[\"AZURE_API_VERSION\"] = os.environ.get(\"AZURE_API_VERSION\")\n",
    "\n",
    "llm = LLM(model = os.environ.get(\"model\"),)"
   ]
  },
  {
   "cell_type": "code",
   "execution_count": 21,
   "metadata": {},
   "outputs": [
    {
     "data": {
      "text/plain": [
       "'https://westusgenai.openai.azure.com/'"
      ]
     },
     "execution_count": 21,
     "metadata": {},
     "output_type": "execute_result"
    }
   ],
   "source": [
    "os.environ[\"AZURE_API_BASE\"]"
   ]
  },
  {
   "cell_type": "code",
   "execution_count": 22,
   "metadata": {},
   "outputs": [
    {
     "data": {
      "text/plain": [
       "<crewai.llm.LLM at 0x1bac2c27e00>"
      ]
     },
     "execution_count": 22,
     "metadata": {},
     "output_type": "execute_result"
    }
   ],
   "source": [
    "llm"
   ]
  },
  {
   "cell_type": "code",
   "execution_count": 23,
   "metadata": {},
   "outputs": [
    {
     "name": "stderr",
     "output_type": "stream",
     "text": [
      "c:\\Ambarish\\crewai_azure\\.venv\\Lib\\site-packages\\crewai_tools\\tools\\base_tool.py:93: PydanticDeprecatedSince20: The `schema` method is deprecated; use `model_json_schema` instead. Deprecated in Pydantic V2.0 to be removed in V3.0. See Pydantic V2 Migration Guide at https://errors.pydantic.dev/2.11/migration/\n",
      "  for arg, attribute in self.args_schema.schema()[\"properties\"].items():\n"
     ]
    }
   ],
   "source": [
    "@tool('DuckDuckGoSearch')\n",
    "def search(search_query: str):\n",
    "    \"\"\"Search the web for information on a given topic\"\"\"\n",
    "    return DuckDuckGoSearchRun().run(search_query)"
   ]
  },
  {
   "cell_type": "code",
   "execution_count": 24,
   "metadata": {},
   "outputs": [
    {
     "name": "stderr",
     "output_type": "stream",
     "text": [
      "c:\\Ambarish\\crewai_azure\\.venv\\Lib\\site-packages\\langchain_core\\tools\\structured.py:54: PydanticDeprecatedSince20: The `schema` method is deprecated; use `model_json_schema` instead. Deprecated in Pydantic V2.0 to be removed in V3.0. See Pydantic V2 Migration Guide at https://errors.pydantic.dev/2.11/migration/\n",
      "  return self.args_schema.schema()[\"properties\"]\n"
     ]
    }
   ],
   "source": [
    "# Define the Agent\n",
    "legal_agent = Agent(\n",
    "    role='Legal Assistant',\n",
    "    goal='Assistant to provide assistance with legal research',\n",
    "    backstory=\"You are an experienced Legal assistant specializing in legal matters of India.\",\n",
    "    verbose=False,\n",
    "    llm=llm,\n",
    "    allow_delegation=False,\n",
    "    tools=[search]  # Tool for online searching\n",
    ")"
   ]
  },
  {
   "cell_type": "code",
   "execution_count": 25,
   "metadata": {},
   "outputs": [],
   "source": [
    "# Define the Task\n",
    "task = Task(\n",
    "    description=\"Based on the user's questions: {questions}, research and advise on the Legal Matters.\",\n",
    "    expected_output=\"A list of legal advise and answers with brief descriptions.\",\n",
    "    agent=legal_agent\n",
    ")"
   ]
  },
  {
   "cell_type": "code",
   "execution_count": 26,
   "metadata": {},
   "outputs": [
    {
     "name": "stderr",
     "output_type": "stream",
     "text": [
      "2025-04-11 07:55:19,202 - 15188 - __init__.py-__init__:535 - WARNING: Overriding of current TracerProvider is not allowed\n",
      "c:\\Ambarish\\crewai_azure\\.venv\\Lib\\site-packages\\langchain_core\\tools\\structured.py:54: PydanticDeprecatedSince20: The `schema` method is deprecated; use `model_json_schema` instead. Deprecated in Pydantic V2.0 to be removed in V3.0. See Pydantic V2 Migration Guide at https://errors.pydantic.dev/2.11/migration/\n",
      "  return self.args_schema.schema()[\"properties\"]\n"
     ]
    }
   ],
   "source": [
    "# Create the Crew\n",
    "crew = Crew(\n",
    "    agents=[legal_agent],\n",
    "    tasks=[task],\n",
    "    verbose=False,\n",
    ")"
   ]
  },
  {
   "cell_type": "code",
   "execution_count": 27,
   "metadata": {},
   "outputs": [
    {
     "name": "stderr",
     "output_type": "stream",
     "text": [
      "c:\\Ambarish\\crewai_azure\\.venv\\Lib\\site-packages\\langchain_core\\tools\\structured.py:54: PydanticDeprecatedSince20: The `schema` method is deprecated; use `model_json_schema` instead. Deprecated in Pydantic V2.0 to be removed in V3.0. See Pydantic V2 Migration Guide at https://errors.pydantic.dev/2.11/migration/\n",
      "  return self.args_schema.schema()[\"properties\"]\n",
      "c:\\Ambarish\\crewai_azure\\.venv\\Lib\\site-packages\\langchain_core\\tools\\structured.py:54: PydanticDeprecatedSince20: The `schema` method is deprecated; use `model_json_schema` instead. Deprecated in Pydantic V2.0 to be removed in V3.0. See Pydantic V2 Migration Guide at https://errors.pydantic.dev/2.11/migration/\n",
      "  return self.args_schema.schema()[\"properties\"]\n",
      "c:\\Ambarish\\crewai_azure\\.venv\\Lib\\site-packages\\crewai\\tools\\tool_usage.py:162: PydanticDeprecatedSince20: The `schema` method is deprecated; use `model_json_schema` instead. Deprecated in Pydantic V2.0 to be removed in V3.0. See Pydantic V2 Migration Guide at https://errors.pydantic.dev/2.11/migration/\n",
      "  acceptable_args = tool.args_schema.schema()[\"properties\"].keys()  # type: ignore # Item \"None\" of \"type[BaseModel] | None\" has no attribute \"schema\"\n",
      "c:\\Ambarish\\crewai_azure\\.venv\\Lib\\site-packages\\langchain_core\\tools\\base.py:424: PydanticDeprecatedSince20: The `parse_obj` method is deprecated; use `model_validate` instead. Deprecated in Pydantic V2.0 to be removed in V3.0. See Pydantic V2 Migration Guide at https://errors.pydantic.dev/2.11/migration/\n",
      "  result = input_args.parse_obj(tool_input)\n",
      "c:\\Ambarish\\crewai_azure\\.venv\\Lib\\site-packages\\langchain_core\\tools\\base.py:427: PydanticDeprecatedSince20: The `dict` method is deprecated; use `model_dump` instead. Deprecated in Pydantic V2.0 to be removed in V3.0. See Pydantic V2 Migration Guide at https://errors.pydantic.dev/2.11/migration/\n",
      "  for k, v in result.dict().items()\n",
      "c:\\Ambarish\\crewai_azure\\.venv\\Lib\\site-packages\\crewai\\tools\\tool_usage.py:162: PydanticDeprecatedSince20: The `schema` method is deprecated; use `model_json_schema` instead. Deprecated in Pydantic V2.0 to be removed in V3.0. See Pydantic V2 Migration Guide at https://errors.pydantic.dev/2.11/migration/\n",
      "  acceptable_args = tool.args_schema.schema()[\"properties\"].keys()  # type: ignore # Item \"None\" of \"type[BaseModel] | None\" has no attribute \"schema\"\n",
      "c:\\Ambarish\\crewai_azure\\.venv\\Lib\\site-packages\\langchain_core\\tools\\base.py:424: PydanticDeprecatedSince20: The `parse_obj` method is deprecated; use `model_validate` instead. Deprecated in Pydantic V2.0 to be removed in V3.0. See Pydantic V2 Migration Guide at https://errors.pydantic.dev/2.11/migration/\n",
      "  result = input_args.parse_obj(tool_input)\n",
      "c:\\Ambarish\\crewai_azure\\.venv\\Lib\\site-packages\\langchain_core\\tools\\base.py:427: PydanticDeprecatedSince20: The `dict` method is deprecated; use `model_dump` instead. Deprecated in Pydantic V2.0 to be removed in V3.0. See Pydantic V2 Migration Guide at https://errors.pydantic.dev/2.11/migration/\n",
      "  for k, v in result.dict().items()\n",
      "c:\\Ambarish\\crewai_azure\\.venv\\Lib\\site-packages\\langchain_core\\tools\\base.py:424: PydanticDeprecatedSince20: The `parse_obj` method is deprecated; use `model_validate` instead. Deprecated in Pydantic V2.0 to be removed in V3.0. See Pydantic V2 Migration Guide at https://errors.pydantic.dev/2.11/migration/\n",
      "  result = input_args.parse_obj(tool_input)\n",
      "c:\\Ambarish\\crewai_azure\\.venv\\Lib\\site-packages\\langchain_core\\tools\\base.py:427: PydanticDeprecatedSince20: The `dict` method is deprecated; use `model_dump` instead. Deprecated in Pydantic V2.0 to be removed in V3.0. See Pydantic V2 Migration Guide at https://errors.pydantic.dev/2.11/migration/\n",
      "  for k, v in result.dict().items()\n",
      "c:\\Ambarish\\crewai_azure\\.venv\\Lib\\site-packages\\crewai\\tools\\tool_usage.py:162: PydanticDeprecatedSince20: The `schema` method is deprecated; use `model_json_schema` instead. Deprecated in Pydantic V2.0 to be removed in V3.0. See Pydantic V2 Migration Guide at https://errors.pydantic.dev/2.11/migration/\n",
      "  acceptable_args = tool.args_schema.schema()[\"properties\"].keys()  # type: ignore # Item \"None\" of \"type[BaseModel] | None\" has no attribute \"schema\"\n",
      "c:\\Ambarish\\crewai_azure\\.venv\\Lib\\site-packages\\langchain_core\\tools\\base.py:424: PydanticDeprecatedSince20: The `parse_obj` method is deprecated; use `model_validate` instead. Deprecated in Pydantic V2.0 to be removed in V3.0. See Pydantic V2 Migration Guide at https://errors.pydantic.dev/2.11/migration/\n",
      "  result = input_args.parse_obj(tool_input)\n",
      "c:\\Ambarish\\crewai_azure\\.venv\\Lib\\site-packages\\langchain_core\\tools\\base.py:427: PydanticDeprecatedSince20: The `dict` method is deprecated; use `model_dump` instead. Deprecated in Pydantic V2.0 to be removed in V3.0. See Pydantic V2 Migration Guide at https://errors.pydantic.dev/2.11/migration/\n",
      "  for k, v in result.dict().items()\n",
      "c:\\Ambarish\\crewai_azure\\.venv\\Lib\\site-packages\\langchain_core\\tools\\base.py:424: PydanticDeprecatedSince20: The `parse_obj` method is deprecated; use `model_validate` instead. Deprecated in Pydantic V2.0 to be removed in V3.0. See Pydantic V2 Migration Guide at https://errors.pydantic.dev/2.11/migration/\n",
      "  result = input_args.parse_obj(tool_input)\n",
      "c:\\Ambarish\\crewai_azure\\.venv\\Lib\\site-packages\\langchain_core\\tools\\base.py:427: PydanticDeprecatedSince20: The `dict` method is deprecated; use `model_dump` instead. Deprecated in Pydantic V2.0 to be removed in V3.0. See Pydantic V2 Migration Guide at https://errors.pydantic.dev/2.11/migration/\n",
      "  for k, v in result.dict().items()\n",
      "c:\\Ambarish\\crewai_azure\\.venv\\Lib\\site-packages\\crewai\\tools\\tool_usage.py:162: PydanticDeprecatedSince20: The `schema` method is deprecated; use `model_json_schema` instead. Deprecated in Pydantic V2.0 to be removed in V3.0. See Pydantic V2 Migration Guide at https://errors.pydantic.dev/2.11/migration/\n",
      "  acceptable_args = tool.args_schema.schema()[\"properties\"].keys()  # type: ignore # Item \"None\" of \"type[BaseModel] | None\" has no attribute \"schema\"\n",
      "c:\\Ambarish\\crewai_azure\\.venv\\Lib\\site-packages\\langchain_core\\tools\\base.py:424: PydanticDeprecatedSince20: The `parse_obj` method is deprecated; use `model_validate` instead. Deprecated in Pydantic V2.0 to be removed in V3.0. See Pydantic V2 Migration Guide at https://errors.pydantic.dev/2.11/migration/\n",
      "  result = input_args.parse_obj(tool_input)\n",
      "c:\\Ambarish\\crewai_azure\\.venv\\Lib\\site-packages\\langchain_core\\tools\\base.py:427: PydanticDeprecatedSince20: The `dict` method is deprecated; use `model_dump` instead. Deprecated in Pydantic V2.0 to be removed in V3.0. See Pydantic V2 Migration Guide at https://errors.pydantic.dev/2.11/migration/\n",
      "  for k, v in result.dict().items()\n",
      "c:\\Ambarish\\crewai_azure\\.venv\\Lib\\site-packages\\langchain_core\\tools\\base.py:424: PydanticDeprecatedSince20: The `parse_obj` method is deprecated; use `model_validate` instead. Deprecated in Pydantic V2.0 to be removed in V3.0. See Pydantic V2 Migration Guide at https://errors.pydantic.dev/2.11/migration/\n",
      "  result = input_args.parse_obj(tool_input)\n",
      "c:\\Ambarish\\crewai_azure\\.venv\\Lib\\site-packages\\langchain_core\\tools\\base.py:427: PydanticDeprecatedSince20: The `dict` method is deprecated; use `model_dump` instead. Deprecated in Pydantic V2.0 to be removed in V3.0. See Pydantic V2 Migration Guide at https://errors.pydantic.dev/2.11/migration/\n",
      "  for k, v in result.dict().items()\n",
      "c:\\Ambarish\\crewai_azure\\.venv\\Lib\\site-packages\\crewai\\tools\\tool_usage.py:162: PydanticDeprecatedSince20: The `schema` method is deprecated; use `model_json_schema` instead. Deprecated in Pydantic V2.0 to be removed in V3.0. See Pydantic V2 Migration Guide at https://errors.pydantic.dev/2.11/migration/\n",
      "  acceptable_args = tool.args_schema.schema()[\"properties\"].keys()  # type: ignore # Item \"None\" of \"type[BaseModel] | None\" has no attribute \"schema\"\n",
      "c:\\Ambarish\\crewai_azure\\.venv\\Lib\\site-packages\\langchain_core\\tools\\base.py:424: PydanticDeprecatedSince20: The `parse_obj` method is deprecated; use `model_validate` instead. Deprecated in Pydantic V2.0 to be removed in V3.0. See Pydantic V2 Migration Guide at https://errors.pydantic.dev/2.11/migration/\n",
      "  result = input_args.parse_obj(tool_input)\n",
      "c:\\Ambarish\\crewai_azure\\.venv\\Lib\\site-packages\\langchain_core\\tools\\base.py:427: PydanticDeprecatedSince20: The `dict` method is deprecated; use `model_dump` instead. Deprecated in Pydantic V2.0 to be removed in V3.0. See Pydantic V2 Migration Guide at https://errors.pydantic.dev/2.11/migration/\n",
      "  for k, v in result.dict().items()\n",
      "c:\\Ambarish\\crewai_azure\\.venv\\Lib\\site-packages\\langchain_core\\tools\\base.py:424: PydanticDeprecatedSince20: The `parse_obj` method is deprecated; use `model_validate` instead. Deprecated in Pydantic V2.0 to be removed in V3.0. See Pydantic V2 Migration Guide at https://errors.pydantic.dev/2.11/migration/\n",
      "  result = input_args.parse_obj(tool_input)\n",
      "c:\\Ambarish\\crewai_azure\\.venv\\Lib\\site-packages\\langchain_core\\tools\\base.py:427: PydanticDeprecatedSince20: The `dict` method is deprecated; use `model_dump` instead. Deprecated in Pydantic V2.0 to be removed in V3.0. See Pydantic V2 Migration Guide at https://errors.pydantic.dev/2.11/migration/\n",
      "  for k, v in result.dict().items()\n",
      "c:\\Ambarish\\crewai_azure\\.venv\\Lib\\site-packages\\crewai\\tools\\tool_usage.py:162: PydanticDeprecatedSince20: The `schema` method is deprecated; use `model_json_schema` instead. Deprecated in Pydantic V2.0 to be removed in V3.0. See Pydantic V2 Migration Guide at https://errors.pydantic.dev/2.11/migration/\n",
      "  acceptable_args = tool.args_schema.schema()[\"properties\"].keys()  # type: ignore # Item \"None\" of \"type[BaseModel] | None\" has no attribute \"schema\"\n",
      "c:\\Ambarish\\crewai_azure\\.venv\\Lib\\site-packages\\langchain_core\\tools\\base.py:424: PydanticDeprecatedSince20: The `parse_obj` method is deprecated; use `model_validate` instead. Deprecated in Pydantic V2.0 to be removed in V3.0. See Pydantic V2 Migration Guide at https://errors.pydantic.dev/2.11/migration/\n",
      "  result = input_args.parse_obj(tool_input)\n",
      "c:\\Ambarish\\crewai_azure\\.venv\\Lib\\site-packages\\langchain_core\\tools\\base.py:427: PydanticDeprecatedSince20: The `dict` method is deprecated; use `model_dump` instead. Deprecated in Pydantic V2.0 to be removed in V3.0. See Pydantic V2 Migration Guide at https://errors.pydantic.dev/2.11/migration/\n",
      "  for k, v in result.dict().items()\n",
      "c:\\Ambarish\\crewai_azure\\.venv\\Lib\\site-packages\\langchain_core\\tools\\base.py:424: PydanticDeprecatedSince20: The `parse_obj` method is deprecated; use `model_validate` instead. Deprecated in Pydantic V2.0 to be removed in V3.0. See Pydantic V2 Migration Guide at https://errors.pydantic.dev/2.11/migration/\n",
      "  result = input_args.parse_obj(tool_input)\n",
      "c:\\Ambarish\\crewai_azure\\.venv\\Lib\\site-packages\\langchain_core\\tools\\base.py:427: PydanticDeprecatedSince20: The `dict` method is deprecated; use `model_dump` instead. Deprecated in Pydantic V2.0 to be removed in V3.0. See Pydantic V2 Migration Guide at https://errors.pydantic.dev/2.11/migration/\n",
      "  for k, v in result.dict().items()\n",
      "c:\\Ambarish\\crewai_azure\\.venv\\Lib\\site-packages\\crewai\\tools\\tool_usage.py:162: PydanticDeprecatedSince20: The `schema` method is deprecated; use `model_json_schema` instead. Deprecated in Pydantic V2.0 to be removed in V3.0. See Pydantic V2 Migration Guide at https://errors.pydantic.dev/2.11/migration/\n",
      "  acceptable_args = tool.args_schema.schema()[\"properties\"].keys()  # type: ignore # Item \"None\" of \"type[BaseModel] | None\" has no attribute \"schema\"\n",
      "c:\\Ambarish\\crewai_azure\\.venv\\Lib\\site-packages\\langchain_core\\tools\\base.py:424: PydanticDeprecatedSince20: The `parse_obj` method is deprecated; use `model_validate` instead. Deprecated in Pydantic V2.0 to be removed in V3.0. See Pydantic V2 Migration Guide at https://errors.pydantic.dev/2.11/migration/\n",
      "  result = input_args.parse_obj(tool_input)\n",
      "c:\\Ambarish\\crewai_azure\\.venv\\Lib\\site-packages\\langchain_core\\tools\\base.py:427: PydanticDeprecatedSince20: The `dict` method is deprecated; use `model_dump` instead. Deprecated in Pydantic V2.0 to be removed in V3.0. See Pydantic V2 Migration Guide at https://errors.pydantic.dev/2.11/migration/\n",
      "  for k, v in result.dict().items()\n",
      "c:\\Ambarish\\crewai_azure\\.venv\\Lib\\site-packages\\langchain_core\\tools\\base.py:424: PydanticDeprecatedSince20: The `parse_obj` method is deprecated; use `model_validate` instead. Deprecated in Pydantic V2.0 to be removed in V3.0. See Pydantic V2 Migration Guide at https://errors.pydantic.dev/2.11/migration/\n",
      "  result = input_args.parse_obj(tool_input)\n",
      "c:\\Ambarish\\crewai_azure\\.venv\\Lib\\site-packages\\langchain_core\\tools\\base.py:427: PydanticDeprecatedSince20: The `dict` method is deprecated; use `model_dump` instead. Deprecated in Pydantic V2.0 to be removed in V3.0. See Pydantic V2 Migration Guide at https://errors.pydantic.dev/2.11/migration/\n",
      "  for k, v in result.dict().items()\n"
     ]
    }
   ],
   "source": [
    "# User input for travel preferences\n",
    "user_input = {\n",
    "    \"questions\": \"I want a know about the Indian Special Marraige Act.\"\n",
    "}\n",
    "\n",
    "# Execute the Crew\n",
    "result = crew.kickoff(inputs=user_input)"
   ]
  },
  {
   "cell_type": "code",
   "execution_count": 28,
   "metadata": {},
   "outputs": [
    {
     "data": {
      "text/markdown": [
       "The Indian Special Marriage Act, 1954, is a landmark legislation that allows individuals of different religions or nationalities to marry outside of their respective personal laws. Here are some key features and legal implications of the Act:\n",
       "\n",
       "1. **Applicability**: The Act applies to the whole of India, except for the state of Jammu and Kashmir, and it extends to Indian citizens living abroad.\n",
       "\n",
       "2. **Interfaith Marriages**: It provides a legal framework for interfaith marriages. Couples can marry regardless of their religion, creating a uniform law that governs such unions.\n",
       "\n",
       "3. **Registration of Marriage**: The Act mandates that marriages under this provision must be registered. The registration process requires a notice to be given to the marriage officer, who will officiate the marriage after a stipulated notice period (30 days). This ensures legal recognition of the marriage.\n",
       "\n",
       "4. **Prohibited Relationships**: The Act outlines the degrees of prohibited relationships, specifying who cannot marry whom. This aligns with traditional considerations of familial relationships and prevents incestuous marriages.\n",
       "\n",
       "5. **Divorce and Separation**: The Special Marriage Act outlines the grounds for divorce, which is based on the same principles as civil marriage in India. Grounds for divorce could include adultery, desertion, or cruelty.\n",
       "\n",
       "6. **Maintenance and Alimony**: Post-divorce, the Act allows for maintenance and alimony claims. It ensures that both partners have financial security after the dissolution of marriage.\n",
       "\n",
       "7. **Legal Protections**: The Act provides legal recourse for issues such as maintenance, inheritance, and custody of children, making it a comprehensive framework for couples who marry under this law.\n",
       "\n",
       "8. **Judicial Precedents**: The Act has been subjected to various interpretations by the courts, leading to significant judicial precedents that help clarify its provisions and applications.\n",
       "\n",
       "In conclusion, the Indian Special Marriage Act, 1954 is essential for facilitating marriages between individuals of different faiths and providing a legal framework that respects their rights and responsibilities. It ensures that such marriages are accorded the same recognition and legal validity as marriages based on personal laws, promoting equality and protecting individual choices."
      ],
      "text/plain": [
       "<IPython.core.display.Markdown object>"
      ]
     },
     "execution_count": 28,
     "metadata": {},
     "output_type": "execute_result"
    }
   ],
   "source": [
    "Markdown(result.raw)"
   ]
  },
  {
   "cell_type": "code",
   "execution_count": null,
   "metadata": {},
   "outputs": [],
   "source": []
  }
 ],
 "metadata": {
  "kernelspec": {
   "display_name": ".venv",
   "language": "python",
   "name": "python3"
  },
  "language_info": {
   "codemirror_mode": {
    "name": "ipython",
    "version": 3
   },
   "file_extension": ".py",
   "mimetype": "text/x-python",
   "name": "python",
   "nbconvert_exporter": "python",
   "pygments_lexer": "ipython3",
   "version": "3.12.1"
  }
 },
 "nbformat": 4,
 "nbformat_minor": 2
}
