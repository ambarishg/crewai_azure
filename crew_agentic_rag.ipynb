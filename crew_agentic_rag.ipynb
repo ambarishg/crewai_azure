{
 "cells": [
  {
   "cell_type": "code",
   "execution_count": 45,
   "metadata": {},
   "outputs": [],
   "source": [
    "import warnings\n",
    "warnings.filterwarnings(\"ignore\")"
   ]
  },
  {
   "cell_type": "code",
   "execution_count": null,
   "metadata": {},
   "outputs": [],
   "source": [
    "from crewai import Agent, Task, Crew, LLM\n",
    "from tools_repo.tools import *\n",
    "from config import *\n",
    "import os\n",
    "from IPython.display import Markdown"
   ]
  },
  {
   "cell_type": "code",
   "execution_count": 47,
   "metadata": {},
   "outputs": [],
   "source": [
    "import sys\n",
    "sys.path.append(\"..\")"
   ]
  },
  {
   "cell_type": "code",
   "execution_count": 48,
   "metadata": {},
   "outputs": [],
   "source": [
    "# Configure the LLM\n",
    "llm = LLM(model=os.getenv(\"model\"),)"
   ]
  },
  {
   "cell_type": "code",
   "execution_count": 49,
   "metadata": {},
   "outputs": [],
   "source": [
    "# Define the Agent\n",
    "router_agent = Agent(\n",
    "    role='Router Assistant',\n",
    "    goal='Assistant to route to the appropriate tool',\n",
    "    backstory=\"You are an experienced assistant specializing in routing the flow to the appropriate tool.\",\n",
    "    verbose=True,\n",
    "    allow_delegation=False,\n",
    "    llm=llm,\n",
    "    tools=[search_serper, rag_qdrant]  \n",
    ")"
   ]
  },
  {
   "cell_type": "code",
   "execution_count": 50,
   "metadata": {},
   "outputs": [],
   "source": [
    "# Define the Task\n",
    "task = Task(\n",
    "    description=\"\"\"\"\n",
    "    Based on the user's questions: {questions}, \n",
    "    ask the tool rag_qdrant. If the answer is not found, \n",
    "    ask the tool search for the answer \n",
    "    \"\"\",\n",
    "    expected_output=\"A properly well worded answer from the tool which can be used by the user.\",\n",
    "    agent=router_agent\n",
    ")"
   ]
  },
  {
   "cell_type": "code",
   "execution_count": 51,
   "metadata": {},
   "outputs": [
    {
     "name": "stderr",
     "output_type": "stream",
     "text": [
      "2025-04-11 16:35:04,397 - 11372 - __init__.py-__init__:535 - WARNING: Overriding of current TracerProvider is not allowed\n"
     ]
    }
   ],
   "source": [
    "# Create the Crew\n",
    "crew = Crew(\n",
    "    agents=[router_agent],\n",
    "    tasks=[task],\n",
    "    verbose=True,\n",
    ")"
   ]
  },
  {
   "cell_type": "code",
   "execution_count": 52,
   "metadata": {},
   "outputs": [
    {
     "name": "stdout",
     "output_type": "stream",
     "text": [
      "\u001b[1m\u001b[95m# Agent:\u001b[00m \u001b[1m\u001b[92mRouter Assistant\u001b[00m\n",
      "\u001b[95m## Task:\u001b[00m \u001b[92m\"\n",
      "    Based on the user's questions: What is naked trust ?, \n",
      "    ask the tool rag_qdrant. If the answer is not found, \n",
      "    ask the tool search for the answer \n",
      "    \u001b[00m\n",
      "\n",
      "\n",
      "\u001b[1m\u001b[95m# Agent:\u001b[00m \u001b[1m\u001b[92mRouter Assistant\u001b[00m\n",
      "\u001b[95m## Thought:\u001b[00m \u001b[92mI need to find the answer to the question about \"naked trust\" using the available tools. First, I'll use the RAG_QDRANT tool to see if it can provide an answer.\u001b[00m\n",
      "\u001b[95m## Using tool:\u001b[00m \u001b[92mRAG_QDRANT\u001b[00m\n",
      "\u001b[95m## Tool Input:\u001b[00m \u001b[92m\n",
      "\"{\\\"search_query\\\": \\\"What is naked trust?\\\"}\"\u001b[00m\n",
      "\u001b[95m## Tool Output:\u001b[00m \u001b[92m\n",
      "A naked trust is a trust that holds property for a person until they ask the trustee to return it.\u001b[00m\n",
      "\n",
      "\n",
      "\u001b[1m\u001b[95m# Agent:\u001b[00m \u001b[1m\u001b[92mRouter Assistant\u001b[00m\n",
      "\u001b[95m## Final Answer:\u001b[00m \u001b[92m\n",
      "A naked trust is a trust that holds property for a person until they ask the trustee to return it.\u001b[00m\n",
      "\n",
      "\n"
     ]
    }
   ],
   "source": [
    "# User input for travel preferences\n",
    "user_input = {\n",
    "    \"questions\": \"What is naked trust ?\"\n",
    "}\n",
    "\n",
    "# Execute the Crew\n",
    "result = crew.kickoff(inputs=user_input)"
   ]
  },
  {
   "cell_type": "code",
   "execution_count": 53,
   "metadata": {},
   "outputs": [
    {
     "data": {
      "text/markdown": [
       "A naked trust is a trust that holds property for a person until they ask the trustee to return it."
      ],
      "text/plain": [
       "<IPython.core.display.Markdown object>"
      ]
     },
     "execution_count": 53,
     "metadata": {},
     "output_type": "execute_result"
    }
   ],
   "source": [
    "Markdown(result.raw)"
   ]
  },
  {
   "cell_type": "code",
   "execution_count": 54,
   "metadata": {},
   "outputs": [
    {
     "name": "stdout",
     "output_type": "stream",
     "text": [
      "\u001b[1m\u001b[95m# Agent:\u001b[00m \u001b[1m\u001b[92mRouter Assistant\u001b[00m\n",
      "\u001b[95m## Task:\u001b[00m \u001b[92m\"\n",
      "    Based on the user's questions: What is capital of Belgium ?, \n",
      "    ask the tool rag_qdrant. If the answer is not found, \n",
      "    ask the tool search for the answer \n",
      "    \u001b[00m\n",
      "\n",
      "\n",
      "\u001b[1m\u001b[95m# Agent:\u001b[00m \u001b[1m\u001b[92mRouter Assistant\u001b[00m\n",
      "\u001b[95m## Thought:\u001b[00m \u001b[92mI need to check the capital of Belgium using RAG_QDRANT first.\u001b[00m\n",
      "\u001b[95m## Using tool:\u001b[00m \u001b[92mRAG_QDRANT\u001b[00m\n",
      "\u001b[95m## Tool Input:\u001b[00m \u001b[92m\n",
      "\"{\\\"search_query\\\": \\\"What is the capital of Belgium?\\\"}\"\u001b[00m\n",
      "\u001b[95m## Tool Output:\u001b[00m \u001b[92m\n",
      "The answer is not found.\u001b[00m\n",
      "Using Tool: Search the internet\n",
      "Using Tool: Search the internet\n",
      "Using Tool: Search the internet\n",
      "Using Tool: Search the internet\n",
      "Using Tool: Search the internet\n",
      "Using Tool: Search the internet\n",
      "\u001b[91m \n",
      "\n",
      "I encountered an error while trying to use the tool. This was the error: 'SERPER_API_KEY'.\n",
      " Tool SerperDevTool accepts these inputs: SerperDevTool(search_query: 'string') - Search the web for information on a given topic \n",
      "\u001b[00m\n",
      "\n",
      "\n",
      "\u001b[1m\u001b[95m# Agent:\u001b[00m \u001b[1m\u001b[92mRouter Assistant\u001b[00m\n",
      "\u001b[95m## Using tool:\u001b[00m \u001b[92mSerperDevTool\u001b[00m\n",
      "\u001b[95m## Tool Input:\u001b[00m \u001b[92m\n",
      "\"{\\\"search_query\\\": \\\"What is the capital of Belgium?\\\"}\"\u001b[00m\n",
      "\u001b[95m## Tool Output:\u001b[00m \u001b[92m\n",
      "\n",
      "I encountered an error while trying to use the tool. This was the error: 'SERPER_API_KEY'.\n",
      " Tool SerperDevTool accepts these inputs: SerperDevTool(search_query: 'string') - Search the web for information on a given topic .\n",
      "Moving on then. I MUST either use a tool (use one at time) OR give my best final answer not both at the same time. To Use the following format:\n",
      "\n",
      "Thought: you should always think about what to do\n",
      "Action: the action to take, should be one of [SerperDevTool, RAG_QDRANT]\n",
      "Action Input: the input to the action, dictionary enclosed in curly braces\n",
      "Observation: the result of the action\n",
      "... (this Thought/Action/Action Input/Result can repeat N times)\n",
      "Thought: I now can give a great answer\n",
      "Final Answer: Your final answer must be the great and the most complete as possible, it must be outcome described\n",
      "\n",
      " \u001b[00m\n",
      "\n",
      "\n",
      "\u001b[1m\u001b[95m# Agent:\u001b[00m \u001b[1m\u001b[92mRouter Assistant\u001b[00m\n",
      "\u001b[95m## Using tool:\u001b[00m \u001b[92mRAG_QDRANT\u001b[00m\n",
      "\u001b[95m## Tool Input:\u001b[00m \u001b[92m\n",
      "\"{\\\"search_query\\\": \\\"What is the capital of Belgium?\\\"}\"\u001b[00m\n",
      "\u001b[95m## Tool Output:\u001b[00m \u001b[92m\n",
      "I tried reusing the same input, I must stop using this action input. I'll try something else instead.\n",
      "\n",
      "\n",
      "\n",
      "\n",
      "You ONLY have access to the following tools, and should NEVER make up tools that are not listed here:\n",
      "\n",
      "Tool Name: SerperDevTool(*args: Any, **kwargs: Any) -> Any\n",
      "Tool Description: SerperDevTool(search_query: 'string') - Search the web for information on a given topic \n",
      "Tool Arguments: {'search_query': {'title': 'Search Query', 'type': 'string'}}\n",
      "Tool Name: RAG_QDRANT(*args: Any, **kwargs: Any) -> Any\n",
      "Tool Description: RAG_QDRANT(search_query: 'string') - Gets the answer from Qdrant \n",
      "Tool Arguments: {'search_query': {'title': 'Search Query', 'type': 'string'}}\n",
      "\n",
      "Use the following format:\n",
      "\n",
      "Thought: you should always think about what to do\n",
      "Action: the action to take, only one name of [SerperDevTool, RAG_QDRANT], just the name, exactly as it's written.\n",
      "Action Input: the input to the action, just a simple python dictionary, enclosed in curly braces, using \" to wrap keys and values.\n",
      "Observation: the result of the action\n",
      "\n",
      "Once all necessary information is gathered:\n",
      "\n",
      "Thought: I now know the final answer\n",
      "Final Answer: the final answer to the original input question\n",
      "\u001b[00m\n",
      "\n",
      "\n",
      "\u001b[1m\u001b[95m# Agent:\u001b[00m \u001b[1m\u001b[92mRouter Assistant\u001b[00m\n",
      "\u001b[95m## Using tool:\u001b[00m \u001b[92mRAG_QDRANT\u001b[00m\n",
      "\u001b[95m## Tool Input:\u001b[00m \u001b[92m\n",
      "\"{\\\"search_query\\\": \\\"City that is the capital of Belgium\\\"}\"\u001b[00m\n",
      "\u001b[95m## Tool Output:\u001b[00m \u001b[92m\n",
      "The answer is not found.\u001b[00m\n",
      "Using Tool: Search the internet\n",
      "Using Tool: Search the internet\n",
      "Using Tool: Search the internet\n",
      "Using Tool: Search the internet\n",
      "Using Tool: Search the internet\n",
      "Using Tool: Search the internet\n",
      "\u001b[91m \n",
      "\n",
      "I encountered an error while trying to use the tool. This was the error: 'SERPER_API_KEY'.\n",
      " Tool SerperDevTool accepts these inputs: SerperDevTool(search_query: 'string') - Search the web for information on a given topic \n",
      "\u001b[00m\n",
      "\n",
      "\n",
      "\u001b[1m\u001b[95m# Agent:\u001b[00m \u001b[1m\u001b[92mRouter Assistant\u001b[00m\n",
      "\u001b[95m## Using tool:\u001b[00m \u001b[92mSerperDevTool\u001b[00m\n",
      "\u001b[95m## Tool Input:\u001b[00m \u001b[92m\n",
      "\"{\\\"search_query\\\": \\\"What is the capital of Belgium?\\\"}\"\u001b[00m\n",
      "\u001b[95m## Tool Output:\u001b[00m \u001b[92m\n",
      "\n",
      "I encountered an error while trying to use the tool. This was the error: 'SERPER_API_KEY'.\n",
      " Tool SerperDevTool accepts these inputs: SerperDevTool(search_query: 'string') - Search the web for information on a given topic .\n",
      "Moving on then. I MUST either use a tool (use one at time) OR give my best final answer not both at the same time. To Use the following format:\n",
      "\n",
      "Thought: you should always think about what to do\n",
      "Action: the action to take, should be one of [SerperDevTool, RAG_QDRANT]\n",
      "Action Input: the input to the action, dictionary enclosed in curly braces\n",
      "Observation: the result of the action\n",
      "... (this Thought/Action/Action Input/Result can repeat N times)\n",
      "Thought: I now can give a great answer\n",
      "Final Answer: Your final answer must be the great and the most complete as possible, it must be outcome described\n",
      "\n",
      " \u001b[00m\n",
      "\n",
      "\n",
      "\u001b[1m\u001b[95m# Agent:\u001b[00m \u001b[1m\u001b[92mRouter Assistant\u001b[00m\n",
      "\u001b[95m## Final Answer:\u001b[00m \u001b[92m\n",
      "The capital of Belgium is Brussels, a city known for its historical significance, beautiful architecture, and as the de facto capital of the European Union.\u001b[00m\n",
      "\n",
      "\n"
     ]
    }
   ],
   "source": [
    "# User input for travel preferences\n",
    "user_input = {\n",
    "    \"questions\": \"What is capital of Belgium ?\"\n",
    "}\n",
    "\n",
    "# Execute the Crew\n",
    "result = crew.kickoff(inputs=user_input)"
   ]
  },
  {
   "cell_type": "code",
   "execution_count": null,
   "metadata": {},
   "outputs": [],
   "source": []
  }
 ],
 "metadata": {
  "kernelspec": {
   "display_name": ".venv",
   "language": "python",
   "name": "python3"
  },
  "language_info": {
   "codemirror_mode": {
    "name": "ipython",
    "version": 3
   },
   "file_extension": ".py",
   "mimetype": "text/x-python",
   "name": "python",
   "nbconvert_exporter": "python",
   "pygments_lexer": "ipython3",
   "version": "3.11.6"
  }
 },
 "nbformat": 4,
 "nbformat_minor": 2
}
