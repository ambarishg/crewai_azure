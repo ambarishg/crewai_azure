{
 "cells": [
  {
   "cell_type": "code",
   "execution_count": 1,
   "metadata": {},
   "outputs": [],
   "source": [
    "import warnings\n",
    "warnings.filterwarnings(\"ignore\")"
   ]
  },
  {
   "cell_type": "code",
   "execution_count": 2,
   "metadata": {},
   "outputs": [
    {
     "name": "stderr",
     "output_type": "stream",
     "text": [
      "c:\\Ambarish\\crewai_azure\\.venv\\Lib\\site-packages\\pydantic\\_internal\\_config.py:323: PydanticDeprecatedSince20: Support for class-based `config` is deprecated, use ConfigDict instead. Deprecated in Pydantic V2.0 to be removed in V3.0. See Pydantic V2 Migration Guide at https://errors.pydantic.dev/2.11/migration/\n",
      "  warnings.warn(DEPRECATION_MESSAGE, DeprecationWarning)\n",
      "c:\\Ambarish\\crewai_azure\\.venv\\Lib\\site-packages\\crewai_tools\\tools\\base_tool.py:93: PydanticDeprecatedSince20: The `schema` method is deprecated; use `model_json_schema` instead. Deprecated in Pydantic V2.0 to be removed in V3.0. See Pydantic V2 Migration Guide at https://errors.pydantic.dev/2.11/migration/\n",
      "  for arg, attribute in self.args_schema.schema()[\"properties\"].items():\n"
     ]
    }
   ],
   "source": [
    "from config import *\n",
    "from tools import *\n",
    "import os\n",
    "from IPython.display import Markdown"
   ]
  },
  {
   "cell_type": "code",
   "execution_count": 3,
   "metadata": {},
   "outputs": [],
   "source": [
    "# Configure the LLM\n",
    "llm = LLM(model = os.environ[\"model\"],)"
   ]
  },
  {
   "cell_type": "code",
   "execution_count": 4,
   "metadata": {},
   "outputs": [
    {
     "name": "stderr",
     "output_type": "stream",
     "text": [
      "c:\\Ambarish\\crewai_azure\\.venv\\Lib\\site-packages\\langchain_core\\tools\\structured.py:54: PydanticDeprecatedSince20: The `schema` method is deprecated; use `model_json_schema` instead. Deprecated in Pydantic V2.0 to be removed in V3.0. See Pydantic V2 Migration Guide at https://errors.pydantic.dev/2.11/migration/\n",
      "  return self.args_schema.schema()[\"properties\"]\n"
     ]
    }
   ],
   "source": [
    "# Define the Agent\n",
    "router_agent = Agent(\n",
    "    role='Router Assistant',\n",
    "    goal='Assistant to route to the appropriate tool',\n",
    "    backstory=\"You are an experienced assistant specializing in routing the flow to the appropriate tool.\",\n",
    "    verbose=False,\n",
    "    allow_delegation=False,\n",
    "    llm=llm,\n",
    "    tools=[search_serper, calculator_add]  \n",
    ")"
   ]
  },
  {
   "cell_type": "code",
   "execution_count": 5,
   "metadata": {},
   "outputs": [],
   "source": [
    "# Define the Task\n",
    "task = Task(\n",
    "    description=\"Based on the user's questions: {questions}, route to the appropriate tool\",\n",
    "    expected_output=\"A properly well worded answer from the tool which can be used by the user.\",\n",
    "    agent=router_agent\n",
    ")"
   ]
  },
  {
   "cell_type": "code",
   "execution_count": 6,
   "metadata": {},
   "outputs": [
    {
     "name": "stderr",
     "output_type": "stream",
     "text": [
      "c:\\Ambarish\\crewai_azure\\.venv\\Lib\\site-packages\\langchain_core\\tools\\structured.py:54: PydanticDeprecatedSince20: The `schema` method is deprecated; use `model_json_schema` instead. Deprecated in Pydantic V2.0 to be removed in V3.0. See Pydantic V2 Migration Guide at https://errors.pydantic.dev/2.11/migration/\n",
      "  return self.args_schema.schema()[\"properties\"]\n"
     ]
    }
   ],
   "source": [
    "# Create the Crew\n",
    "crew = Crew(\n",
    "    agents=[router_agent],\n",
    "    tasks=[task],\n",
    "    verbose=False,\n",
    ")"
   ]
  },
  {
   "cell_type": "code",
   "execution_count": 7,
   "metadata": {},
   "outputs": [
    {
     "name": "stderr",
     "output_type": "stream",
     "text": [
      "c:\\Ambarish\\crewai_azure\\.venv\\Lib\\site-packages\\langchain_core\\tools\\structured.py:54: PydanticDeprecatedSince20: The `schema` method is deprecated; use `model_json_schema` instead. Deprecated in Pydantic V2.0 to be removed in V3.0. See Pydantic V2 Migration Guide at https://errors.pydantic.dev/2.11/migration/\n",
      "  return self.args_schema.schema()[\"properties\"]\n",
      "c:\\Ambarish\\crewai_azure\\.venv\\Lib\\site-packages\\langchain_core\\tools\\structured.py:54: PydanticDeprecatedSince20: The `schema` method is deprecated; use `model_json_schema` instead. Deprecated in Pydantic V2.0 to be removed in V3.0. See Pydantic V2 Migration Guide at https://errors.pydantic.dev/2.11/migration/\n",
      "  return self.args_schema.schema()[\"properties\"]\n",
      "c:\\Ambarish\\crewai_azure\\.venv\\Lib\\site-packages\\crewai\\tools\\tool_usage.py:162: PydanticDeprecatedSince20: The `schema` method is deprecated; use `model_json_schema` instead. Deprecated in Pydantic V2.0 to be removed in V3.0. See Pydantic V2 Migration Guide at https://errors.pydantic.dev/2.11/migration/\n",
      "  acceptable_args = tool.args_schema.schema()[\"properties\"].keys()  # type: ignore # Item \"None\" of \"type[BaseModel] | None\" has no attribute \"schema\"\n",
      "c:\\Ambarish\\crewai_azure\\.venv\\Lib\\site-packages\\langchain_core\\tools\\base.py:424: PydanticDeprecatedSince20: The `parse_obj` method is deprecated; use `model_validate` instead. Deprecated in Pydantic V2.0 to be removed in V3.0. See Pydantic V2 Migration Guide at https://errors.pydantic.dev/2.11/migration/\n",
      "  result = input_args.parse_obj(tool_input)\n",
      "c:\\Ambarish\\crewai_azure\\.venv\\Lib\\site-packages\\langchain_core\\tools\\base.py:427: PydanticDeprecatedSince20: The `dict` method is deprecated; use `model_dump` instead. Deprecated in Pydantic V2.0 to be removed in V3.0. See Pydantic V2 Migration Guide at https://errors.pydantic.dev/2.11/migration/\n",
      "  for k, v in result.dict().items()\n"
     ]
    }
   ],
   "source": [
    "# User input for travel preferences\n",
    "user_input = {\n",
    "    \"questions\": \"What is 7+9\"\n",
    "}\n",
    "\n",
    "# Execute the Crew\n",
    "result = crew.kickoff(inputs=user_input)"
   ]
  },
  {
   "cell_type": "code",
   "execution_count": 8,
   "metadata": {},
   "outputs": [
    {
     "data": {
      "text/markdown": [
       "The sum of 7 and 9 is 16.0."
      ],
      "text/plain": [
       "<IPython.core.display.Markdown object>"
      ]
     },
     "execution_count": 8,
     "metadata": {},
     "output_type": "execute_result"
    }
   ],
   "source": [
    "Markdown(result.raw)"
   ]
  },
  {
   "cell_type": "code",
   "execution_count": 9,
   "metadata": {},
   "outputs": [
    {
     "name": "stderr",
     "output_type": "stream",
     "text": [
      "c:\\Ambarish\\crewai_azure\\.venv\\Lib\\site-packages\\langchain_core\\tools\\structured.py:54: PydanticDeprecatedSince20: The `schema` method is deprecated; use `model_json_schema` instead. Deprecated in Pydantic V2.0 to be removed in V3.0. See Pydantic V2 Migration Guide at https://errors.pydantic.dev/2.11/migration/\n",
      "  return self.args_schema.schema()[\"properties\"]\n",
      "c:\\Ambarish\\crewai_azure\\.venv\\Lib\\site-packages\\langchain_core\\tools\\structured.py:54: PydanticDeprecatedSince20: The `schema` method is deprecated; use `model_json_schema` instead. Deprecated in Pydantic V2.0 to be removed in V3.0. See Pydantic V2 Migration Guide at https://errors.pydantic.dev/2.11/migration/\n",
      "  return self.args_schema.schema()[\"properties\"]\n",
      "c:\\Ambarish\\crewai_azure\\.venv\\Lib\\site-packages\\crewai\\tools\\tool_usage.py:162: PydanticDeprecatedSince20: The `schema` method is deprecated; use `model_json_schema` instead. Deprecated in Pydantic V2.0 to be removed in V3.0. See Pydantic V2 Migration Guide at https://errors.pydantic.dev/2.11/migration/\n",
      "  acceptable_args = tool.args_schema.schema()[\"properties\"].keys()  # type: ignore # Item \"None\" of \"type[BaseModel] | None\" has no attribute \"schema\"\n",
      "c:\\Ambarish\\crewai_azure\\.venv\\Lib\\site-packages\\langchain_core\\tools\\base.py:424: PydanticDeprecatedSince20: The `parse_obj` method is deprecated; use `model_validate` instead. Deprecated in Pydantic V2.0 to be removed in V3.0. See Pydantic V2 Migration Guide at https://errors.pydantic.dev/2.11/migration/\n",
      "  result = input_args.parse_obj(tool_input)\n",
      "c:\\Ambarish\\crewai_azure\\.venv\\Lib\\site-packages\\langchain_core\\tools\\base.py:427: PydanticDeprecatedSince20: The `dict` method is deprecated; use `model_dump` instead. Deprecated in Pydantic V2.0 to be removed in V3.0. See Pydantic V2 Migration Guide at https://errors.pydantic.dev/2.11/migration/\n",
      "  for k, v in result.dict().items()\n",
      "c:\\Ambarish\\crewai_azure\\.venv\\Lib\\site-packages\\crewai_tools\\tools\\base_tool.py:93: PydanticDeprecatedSince20: The `schema` method is deprecated; use `model_json_schema` instead. Deprecated in Pydantic V2.0 to be removed in V3.0. See Pydantic V2 Migration Guide at https://errors.pydantic.dev/2.11/migration/\n",
      "  for arg, attribute in self.args_schema.schema()[\"properties\"].items():\n"
     ]
    },
    {
     "name": "stdout",
     "output_type": "stream",
     "text": [
      "Using Tool: Search the internet\n"
     ]
    }
   ],
   "source": [
    "user_input = {\n",
    "    \"questions\": \"What is the result of the match between GT vs MI in IPL ?\"\n",
    "}\n",
    "\n",
    "# Execute the Crew\n",
    "result = crew.kickoff(inputs=user_input)"
   ]
  },
  {
   "cell_type": "code",
   "execution_count": 10,
   "metadata": {},
   "outputs": [
    {
     "data": {
      "text/markdown": [
       "In the IPL match held on March 29, 2025, Gujarat Titans (GT) faced Mumbai Indians (MI) and won by 36 runs. The final scores were GT 196/8 and MI 160/6. For more details, you can visit the ESPNcricinfo page [here](https://www.espncricinfo.com/series/ipl-2025-1449924/gujarat-titans-vs-mumbai-indians-9th-match-1473446/live-cricket-score)."
      ],
      "text/plain": [
       "<IPython.core.display.Markdown object>"
      ]
     },
     "execution_count": 10,
     "metadata": {},
     "output_type": "execute_result"
    }
   ],
   "source": [
    "Markdown(result.raw)"
   ]
  },
  {
   "cell_type": "code",
   "execution_count": 11,
   "metadata": {},
   "outputs": [
    {
     "name": "stderr",
     "output_type": "stream",
     "text": [
      "c:\\Ambarish\\crewai_azure\\.venv\\Lib\\site-packages\\langchain_core\\tools\\structured.py:54: PydanticDeprecatedSince20: The `schema` method is deprecated; use `model_json_schema` instead. Deprecated in Pydantic V2.0 to be removed in V3.0. See Pydantic V2 Migration Guide at https://errors.pydantic.dev/2.11/migration/\n",
      "  return self.args_schema.schema()[\"properties\"]\n",
      "c:\\Ambarish\\crewai_azure\\.venv\\Lib\\site-packages\\langchain_core\\tools\\structured.py:54: PydanticDeprecatedSince20: The `schema` method is deprecated; use `model_json_schema` instead. Deprecated in Pydantic V2.0 to be removed in V3.0. See Pydantic V2 Migration Guide at https://errors.pydantic.dev/2.11/migration/\n",
      "  return self.args_schema.schema()[\"properties\"]\n",
      "c:\\Ambarish\\crewai_azure\\.venv\\Lib\\site-packages\\crewai\\tools\\tool_usage.py:162: PydanticDeprecatedSince20: The `schema` method is deprecated; use `model_json_schema` instead. Deprecated in Pydantic V2.0 to be removed in V3.0. See Pydantic V2 Migration Guide at https://errors.pydantic.dev/2.11/migration/\n",
      "  acceptable_args = tool.args_schema.schema()[\"properties\"].keys()  # type: ignore # Item \"None\" of \"type[BaseModel] | None\" has no attribute \"schema\"\n",
      "c:\\Ambarish\\crewai_azure\\.venv\\Lib\\site-packages\\langchain_core\\tools\\base.py:424: PydanticDeprecatedSince20: The `parse_obj` method is deprecated; use `model_validate` instead. Deprecated in Pydantic V2.0 to be removed in V3.0. See Pydantic V2 Migration Guide at https://errors.pydantic.dev/2.11/migration/\n",
      "  result = input_args.parse_obj(tool_input)\n",
      "c:\\Ambarish\\crewai_azure\\.venv\\Lib\\site-packages\\langchain_core\\tools\\base.py:427: PydanticDeprecatedSince20: The `dict` method is deprecated; use `model_dump` instead. Deprecated in Pydantic V2.0 to be removed in V3.0. See Pydantic V2 Migration Guide at https://errors.pydantic.dev/2.11/migration/\n",
      "  for k, v in result.dict().items()\n",
      "c:\\Ambarish\\crewai_azure\\.venv\\Lib\\site-packages\\crewai_tools\\tools\\base_tool.py:93: PydanticDeprecatedSince20: The `schema` method is deprecated; use `model_json_schema` instead. Deprecated in Pydantic V2.0 to be removed in V3.0. See Pydantic V2 Migration Guide at https://errors.pydantic.dev/2.11/migration/\n",
      "  for arg, attribute in self.args_schema.schema()[\"properties\"].items():\n"
     ]
    },
    {
     "name": "stdout",
     "output_type": "stream",
     "text": [
      "Using Tool: Search the internet\n"
     ]
    },
    {
     "name": "stderr",
     "output_type": "stream",
     "text": [
      "c:\\Ambarish\\crewai_azure\\.venv\\Lib\\site-packages\\crewai\\tools\\tool_usage.py:162: PydanticDeprecatedSince20: The `schema` method is deprecated; use `model_json_schema` instead. Deprecated in Pydantic V2.0 to be removed in V3.0. See Pydantic V2 Migration Guide at https://errors.pydantic.dev/2.11/migration/\n",
      "  acceptable_args = tool.args_schema.schema()[\"properties\"].keys()  # type: ignore # Item \"None\" of \"type[BaseModel] | None\" has no attribute \"schema\"\n",
      "c:\\Ambarish\\crewai_azure\\.venv\\Lib\\site-packages\\langchain_core\\tools\\base.py:424: PydanticDeprecatedSince20: The `parse_obj` method is deprecated; use `model_validate` instead. Deprecated in Pydantic V2.0 to be removed in V3.0. See Pydantic V2 Migration Guide at https://errors.pydantic.dev/2.11/migration/\n",
      "  result = input_args.parse_obj(tool_input)\n",
      "c:\\Ambarish\\crewai_azure\\.venv\\Lib\\site-packages\\langchain_core\\tools\\base.py:427: PydanticDeprecatedSince20: The `dict` method is deprecated; use `model_dump` instead. Deprecated in Pydantic V2.0 to be removed in V3.0. See Pydantic V2 Migration Guide at https://errors.pydantic.dev/2.11/migration/\n",
      "  for k, v in result.dict().items()\n"
     ]
    }
   ],
   "source": [
    "user_input = {\n",
    "    \"questions\": \"Get the age of Aamir Khan of Bollywood and add 60 to it\"\n",
    "}\n",
    "\n",
    "# Execute the Crew\n",
    "result = crew.kickoff(inputs=user_input)"
   ]
  },
  {
   "cell_type": "code",
   "execution_count": 12,
   "metadata": {},
   "outputs": [
    {
     "data": {
      "text/markdown": [
       "Aamir Khan is currently 60 years old. When you add 60 to his age, the result is 120."
      ],
      "text/plain": [
       "<IPython.core.display.Markdown object>"
      ]
     },
     "execution_count": 12,
     "metadata": {},
     "output_type": "execute_result"
    }
   ],
   "source": [
    "Markdown(result.raw)"
   ]
  },
  {
   "cell_type": "code",
   "execution_count": null,
   "metadata": {},
   "outputs": [],
   "source": []
  }
 ],
 "metadata": {
  "kernelspec": {
   "display_name": ".venv",
   "language": "python",
   "name": "python3"
  },
  "language_info": {
   "codemirror_mode": {
    "name": "ipython",
    "version": 3
   },
   "file_extension": ".py",
   "mimetype": "text/x-python",
   "name": "python",
   "nbconvert_exporter": "python",
   "pygments_lexer": "ipython3",
   "version": "3.12.1"
  }
 },
 "nbformat": 4,
 "nbformat_minor": 2
}
